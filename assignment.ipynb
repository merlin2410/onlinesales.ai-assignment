{
 "cells": [
  {
   "cell_type": "markdown",
   "id": "64e2696b",
   "metadata": {},
   "source": [
    "# OnlineSales.ai Assignment"
   ]
  },
  {
   "cell_type": "markdown",
   "id": "80257079",
   "metadata": {},
   "source": [
    "## Task 1"
   ]
  },
  {
   "cell_type": "markdown",
   "id": "2cae3c26",
   "metadata": {},
   "source": [
    "Fetch top 3 departments along with their name and average monthly salary. Below is the format of the report"
   ]
  },
  {
   "cell_type": "markdown",
   "id": "f8a05166",
   "metadata": {},
   "source": [
    "Answer:"
   ]
  },
  {
   "cell_type": "raw",
   "id": "cbeb570a",
   "metadata": {},
   "source": [
    "\n",
    "select d.name as \"DEPT_NAME\",avg(s.amt) as \"AVG_MONTHLY_SALARY(USD)\" from employees as e join departments as d on e.dept_id=d.id join salaries as s on s.emp_id=e.id group by d.name order by avg(s.amt) desc limit 3;"
   ]
  },
  {
   "cell_type": "markdown",
   "id": "2a6f60a0",
   "metadata": {},
   "source": [
    "## Task 2"
   ]
  },
  {
   "cell_type": "code",
   "execution_count": 1,
   "id": "11659a3a",
   "metadata": {},
   "outputs": [],
   "source": [
    "import pandas as pd"
   ]
  },
  {
   "cell_type": "code",
   "execution_count": 2,
   "id": "6d538662",
   "metadata": {},
   "outputs": [],
   "source": [
    "departments=pd.read_csv(\"C:/Users/Merlin/Downloads/Departments.csv\")"
   ]
  },
  {
   "cell_type": "code",
   "execution_count": 3,
   "id": "bfd587f1",
   "metadata": {},
   "outputs": [],
   "source": [
    "salaries=pd.read_csv(\"C:/Users/Merlin/Downloads/Salaries.csv\")"
   ]
  },
  {
   "cell_type": "code",
   "execution_count": 4,
   "id": "99c49b11",
   "metadata": {},
   "outputs": [],
   "source": [
    "employees=pd.read_csv(\"C:/Users/Merlin/Downloads/Employees.csv\")"
   ]
  },
  {
   "cell_type": "code",
   "execution_count": 5,
   "id": "55c1646a",
   "metadata": {},
   "outputs": [],
   "source": [
    "de=pd.merge(departments,employees,left_on='ID',right_on='DEPT ID')"
   ]
  },
  {
   "cell_type": "code",
   "execution_count": 6,
   "id": "dd893d1a",
   "metadata": {},
   "outputs": [],
   "source": [
    "combined=pd.merge(de,salaries,left_on='ID_y',right_on='EMP_ID')"
   ]
  },
  {
   "cell_type": "code",
   "execution_count": 7,
   "id": "7b04a453",
   "metadata": {},
   "outputs": [
    {
     "data": {
      "text/html": [
       "<div>\n",
       "<style scoped>\n",
       "    .dataframe tbody tr th:only-of-type {\n",
       "        vertical-align: middle;\n",
       "    }\n",
       "\n",
       "    .dataframe tbody tr th {\n",
       "        vertical-align: top;\n",
       "    }\n",
       "\n",
       "    .dataframe thead th {\n",
       "        text-align: right;\n",
       "    }\n",
       "</style>\n",
       "<table border=\"1\" class=\"dataframe\">\n",
       "  <thead>\n",
       "    <tr style=\"text-align: right;\">\n",
       "      <th></th>\n",
       "      <th>ID_x</th>\n",
       "      <th>NAME_x</th>\n",
       "      <th>ID_y</th>\n",
       "      <th>NAME_y</th>\n",
       "      <th>DEPT ID</th>\n",
       "      <th>EMP_ID</th>\n",
       "      <th>MONTH (YYYYMM)</th>\n",
       "      <th>AMT (USD)</th>\n",
       "    </tr>\n",
       "  </thead>\n",
       "  <tbody>\n",
       "    <tr>\n",
       "      <th>0</th>\n",
       "      <td>1</td>\n",
       "      <td>HR</td>\n",
       "      <td>1</td>\n",
       "      <td>Jack</td>\n",
       "      <td>1</td>\n",
       "      <td>1</td>\n",
       "      <td>202207</td>\n",
       "      <td>5000</td>\n",
       "    </tr>\n",
       "    <tr>\n",
       "      <th>1</th>\n",
       "      <td>1</td>\n",
       "      <td>HR</td>\n",
       "      <td>1</td>\n",
       "      <td>Jack</td>\n",
       "      <td>1</td>\n",
       "      <td>1</td>\n",
       "      <td>202208</td>\n",
       "      <td>5000</td>\n",
       "    </tr>\n",
       "    <tr>\n",
       "      <th>2</th>\n",
       "      <td>1</td>\n",
       "      <td>HR</td>\n",
       "      <td>2</td>\n",
       "      <td>John</td>\n",
       "      <td>1</td>\n",
       "      <td>2</td>\n",
       "      <td>202207</td>\n",
       "      <td>4000</td>\n",
       "    </tr>\n",
       "    <tr>\n",
       "      <th>3</th>\n",
       "      <td>1</td>\n",
       "      <td>HR</td>\n",
       "      <td>2</td>\n",
       "      <td>John</td>\n",
       "      <td>1</td>\n",
       "      <td>2</td>\n",
       "      <td>202208</td>\n",
       "      <td>4000</td>\n",
       "    </tr>\n",
       "    <tr>\n",
       "      <th>4</th>\n",
       "      <td>1</td>\n",
       "      <td>HR</td>\n",
       "      <td>10</td>\n",
       "      <td>Shirley</td>\n",
       "      <td>1</td>\n",
       "      <td>10</td>\n",
       "      <td>202207</td>\n",
       "      <td>4800</td>\n",
       "    </tr>\n",
       "    <tr>\n",
       "      <th>...</th>\n",
       "      <td>...</td>\n",
       "      <td>...</td>\n",
       "      <td>...</td>\n",
       "      <td>...</td>\n",
       "      <td>...</td>\n",
       "      <td>...</td>\n",
       "      <td>...</td>\n",
       "      <td>...</td>\n",
       "    </tr>\n",
       "    <tr>\n",
       "      <th>166</th>\n",
       "      <td>5</td>\n",
       "      <td>Sales</td>\n",
       "      <td>16</td>\n",
       "      <td>Howard</td>\n",
       "      <td>5</td>\n",
       "      <td>16</td>\n",
       "      <td>202305</td>\n",
       "      <td>7500</td>\n",
       "    </tr>\n",
       "    <tr>\n",
       "      <th>167</th>\n",
       "      <td>5</td>\n",
       "      <td>Sales</td>\n",
       "      <td>16</td>\n",
       "      <td>Howard</td>\n",
       "      <td>5</td>\n",
       "      <td>16</td>\n",
       "      <td>202306</td>\n",
       "      <td>7500</td>\n",
       "    </tr>\n",
       "    <tr>\n",
       "      <th>168</th>\n",
       "      <td>5</td>\n",
       "      <td>Sales</td>\n",
       "      <td>21</td>\n",
       "      <td>Bruce</td>\n",
       "      <td>5</td>\n",
       "      <td>21</td>\n",
       "      <td>202304</td>\n",
       "      <td>4800</td>\n",
       "    </tr>\n",
       "    <tr>\n",
       "      <th>169</th>\n",
       "      <td>5</td>\n",
       "      <td>Sales</td>\n",
       "      <td>21</td>\n",
       "      <td>Bruce</td>\n",
       "      <td>5</td>\n",
       "      <td>21</td>\n",
       "      <td>202305</td>\n",
       "      <td>4800</td>\n",
       "    </tr>\n",
       "    <tr>\n",
       "      <th>170</th>\n",
       "      <td>5</td>\n",
       "      <td>Sales</td>\n",
       "      <td>21</td>\n",
       "      <td>Bruce</td>\n",
       "      <td>5</td>\n",
       "      <td>21</td>\n",
       "      <td>202306</td>\n",
       "      <td>4800</td>\n",
       "    </tr>\n",
       "  </tbody>\n",
       "</table>\n",
       "<p>171 rows × 8 columns</p>\n",
       "</div>"
      ],
      "text/plain": [
       "     ID_x NAME_x  ID_y   NAME_y  DEPT ID  EMP_ID  MONTH (YYYYMM)  AMT (USD)\n",
       "0       1     HR     1     Jack        1       1          202207       5000\n",
       "1       1     HR     1     Jack        1       1          202208       5000\n",
       "2       1     HR     2     John        1       2          202207       4000\n",
       "3       1     HR     2     John        1       2          202208       4000\n",
       "4       1     HR    10  Shirley        1      10          202207       4800\n",
       "..    ...    ...   ...      ...      ...     ...             ...        ...\n",
       "166     5  Sales    16   Howard        5      16          202305       7500\n",
       "167     5  Sales    16   Howard        5      16          202306       7500\n",
       "168     5  Sales    21    Bruce        5      21          202304       4800\n",
       "169     5  Sales    21    Bruce        5      21          202305       4800\n",
       "170     5  Sales    21    Bruce        5      21          202306       4800\n",
       "\n",
       "[171 rows x 8 columns]"
      ]
     },
     "execution_count": 7,
     "metadata": {},
     "output_type": "execute_result"
    }
   ],
   "source": [
    "combined"
   ]
  },
  {
   "cell_type": "code",
   "execution_count": 8,
   "id": "5578de3d",
   "metadata": {},
   "outputs": [],
   "source": [
    "avgamt=combined.groupby(['NAME_x'])['AMT (USD)'].mean()"
   ]
  },
  {
   "cell_type": "code",
   "execution_count": 9,
   "id": "136a3c81",
   "metadata": {},
   "outputs": [
    {
     "data": {
      "text/plain": [
       "NAME_x\n",
       "Finance    6360.317460\n",
       "HR         5273.684211\n",
       "IT         5839.393939\n",
       "Ops        6420.000000\n",
       "Sales      7045.161290\n",
       "Name: AMT (USD), dtype: float64"
      ]
     },
     "execution_count": 9,
     "metadata": {},
     "output_type": "execute_result"
    }
   ],
   "source": [
    "avgamt"
   ]
  },
  {
   "cell_type": "code",
   "execution_count": 11,
   "id": "98f35ae3",
   "metadata": {},
   "outputs": [],
   "source": [
    "ans=avgamt.sort_values(ascending=False).head(3)"
   ]
  },
  {
   "cell_type": "code",
   "execution_count": 12,
   "id": "d115f7c3",
   "metadata": {},
   "outputs": [
    {
     "data": {
      "text/plain": [
       "NAME_x\n",
       "Sales      7045.16129\n",
       "Ops        6420.00000\n",
       "Finance    6360.31746\n",
       "Name: AMT (USD), dtype: float64"
      ]
     },
     "execution_count": 12,
     "metadata": {},
     "output_type": "execute_result"
    }
   ],
   "source": [
    "ans"
   ]
  },
  {
   "cell_type": "markdown",
   "id": "f402d2e4",
   "metadata": {},
   "source": [
    "## Task 3"
   ]
  },
  {
   "cell_type": "markdown",
   "id": "7384c6b5",
   "metadata": {},
   "source": [
    "Question: Given below is a Bash / Python script that performs following computation on an integer input (n):\n",
    "If n is less than 10: Calculate its Square\n",
    "Example: 4 => 16\n",
    "If n is between 10 and 20: Calculate the factorial of (n-10)\n",
    "Example: 15 => 120\n",
    "If n is greater than 20: Calculate the sum of all integers between 1 and (n-20)\n",
    "Example: 25 => 15\n",
    "\n",
    "def compute(n):\n",
    "    if n < 10:\n",
    "        out = n ** 2\n",
    "    elif n < 20:\n",
    "        out = 1\n",
    "        for i in range(1, n-10):\n",
    "            out *= i\n",
    "    else:\n",
    "        lim = n - 20\n",
    "        out = lim * lim\n",
    "        out = out - lim\n",
    "        out = out / 2 \n",
    "    print(out)\n",
    "\n",
    "\n",
    "n = int(input(\"Enter an integer: \"))\n",
    "compute(n)"
   ]
  },
  {
   "cell_type": "markdown",
   "id": "65a87610",
   "metadata": {},
   "source": [
    "Solution:"
   ]
  },
  {
   "cell_type": "code",
   "execution_count": 15,
   "id": "9a333a1a",
   "metadata": {},
   "outputs": [
    {
     "name": "stdout",
     "output_type": "stream",
     "text": [
      "Enter an integer: 6\n",
      "36\n"
     ]
    }
   ],
   "source": [
    "def compute(n):\n",
    "    if n < 10:\n",
    "        out = n ** 2\n",
    "    elif n < 20:\n",
    "        out = 1\n",
    "        for i in range(1, n-9):\n",
    "            out *= i\n",
    "    else:\n",
    "        lim = n - 20\n",
    "        out = lim * lim\n",
    "        out = out + lim\n",
    "        out = out / 2 \n",
    "    print(out)\n",
    "\n",
    "\n",
    "n = int(input(\"Enter an integer: \"))\n",
    "compute(n)"
   ]
  },
  {
   "cell_type": "code",
   "execution_count": 16,
   "id": "48686c57",
   "metadata": {},
   "outputs": [
    {
     "name": "stdout",
     "output_type": "stream",
     "text": [
      "Enter an integer: 16\n",
      "720\n"
     ]
    }
   ],
   "source": [
    "n = int(input(\"Enter an integer: \"))\n",
    "compute(n)"
   ]
  },
  {
   "cell_type": "code",
   "execution_count": 17,
   "id": "fb6ba2fa",
   "metadata": {},
   "outputs": [
    {
     "name": "stdout",
     "output_type": "stream",
     "text": [
      "Enter an integer: 35\n",
      "120.0\n"
     ]
    }
   ],
   "source": [
    "n = int(input(\"Enter an integer: \"))\n",
    "compute(n)"
   ]
  },
  {
   "cell_type": "code",
   "execution_count": null,
   "id": "6fc9f0f3",
   "metadata": {},
   "outputs": [],
   "source": []
  }
 ],
 "metadata": {
  "kernelspec": {
   "display_name": "Python 3 (ipykernel)",
   "language": "python",
   "name": "python3"
  },
  "language_info": {
   "codemirror_mode": {
    "name": "ipython",
    "version": 3
   },
   "file_extension": ".py",
   "mimetype": "text/x-python",
   "name": "python",
   "nbconvert_exporter": "python",
   "pygments_lexer": "ipython3",
   "version": "3.11.3"
  }
 },
 "nbformat": 4,
 "nbformat_minor": 5
}
